from sklearn import neighbors, datasets, preprocessing
from sklearn.model_selection import train_test_split
from sklearn.linear_model import SGDClassifier
import matplotlib.pyplot as plt


iris = datasets.load_iris();

X = iris.data
Y = iris.target

X_train, X_test, y_train, y_test = train_test_split(X, Y, random_state=33)

scaler = preprocessing.StandardScaler().fit(X_train)
X_train = scaler.transform(X_train)
X_test = scaler.transform(X_test)

clf = SGDClassifier(loss="hinge", penalty="l2", max_iter=5)
clf.fit(X_train, y_train)   

y_found = clf.predict(X_test)

error = y_test-y_found

error
